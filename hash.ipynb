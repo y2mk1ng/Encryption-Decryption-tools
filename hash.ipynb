{
 "cells": [
  {
   "cell_type": "code",
   "execution_count": null,
   "metadata": {},
   "outputs": [],
   "source": [
    "import hashlib"
   ]
  },
  {
   "cell_type": "code",
   "execution_count": null,
   "metadata": {},
   "outputs": [],
   "source": [
    "m1 = hashlib.sha224()\n",
    "m1.update(b\"...\") #insert the pwd in the \"...\"\n",
    "m1.digest()"
   ]
  },
  {
   "cell_type": "code",
   "execution_count": null,
   "metadata": {},
   "outputs": [],
   "source": [
    "m2 = hashlib.sha256()\n",
    "m2.update(b\"...\") #insert the pwd in the \"...\"\n",
    "m2.digest()"
   ]
  },
  {
   "cell_type": "code",
   "execution_count": null,
   "metadata": {},
   "outputs": [],
   "source": [
    "m3 = hashlib.md5()\n",
    "m3.update(b\"...\") #insert the pwd in the \"...\"\n",
    "m3.digest()"
   ]
  },
  {
   "cell_type": "code",
   "execution_count": null,
   "metadata": {},
   "outputs": [],
   "source": [
    "m5 = hashlib.sha384()\n",
    "m5.update(b\"...\") #insert the pwd in the \"...\"\n",
    "m5.digest()"
   ]
  },
  {
   "cell_type": "code",
   "execution_count": null,
   "metadata": {},
   "outputs": [],
   "source": [
    "m6 = hashlib.sha512()\n",
    "m6.update(b\"...\") #insert the pwd in the \"...\"\n",
    "m6.digest()"
   ]
  }
 ],
 "metadata": {
  "kernelspec": {
   "display_name": "Python 3",
   "language": "python",
   "name": "python3"
  },
  "language_info": {
   "codemirror_mode": {
    "name": "ipython",
    "version": 3
   },
   "file_extension": ".py",
   "mimetype": "text/x-python",
   "name": "python",
   "nbconvert_exporter": "python",
   "pygments_lexer": "ipython3",
   "version": "3.7.3"
  }
 },
 "nbformat": 4,
 "nbformat_minor": 2
}
